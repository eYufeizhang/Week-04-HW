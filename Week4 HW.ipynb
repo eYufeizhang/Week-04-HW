{
 "cells": [
  {
   "cell_type": "markdown",
   "id": "1dd77225",
   "metadata": {},
   "source": [
    "1. The \"Pre-lecture\" video (above) mentioned the \"standard error of the mean\" as being the \"standard deviation\" of the distribution bootstrapped means. What is the difference between the \"standard error of the mean\" and the \"standard deviation\" of the original data? What distinct ideas do each of these capture? Explain this concisely in your own words.\n",
    "Standard deviation reflects variability in the data itself.\n",
    "Standard error of the mean reflects variability in the estimated mean across different samples, indicating how confident we can be in the sample mean as an estimate of the population mean."
   ]
  },
  {
   "cell_type": "markdown",
   "id": "27ea9f40",
   "metadata": {},
   "source": [
    "2. The \"Pre-lecture\" video (above) suggested that the \"standard error of the mean\" could be used to create a confidence interval, but didn't describe exactly how to do this. How can we use the \"standard error of the mean\" to create a 95% confidence interval which \"covers 95% of the bootstrapped sample means\"? Explain this concisely in your own words.\n",
    "Calculate the sample mean from your data.\n",
    "Multiply the SEM by 1.96, which is the z-value corresponding to a 95% confidence level (assuming a normal distribution of sample means).\n",
    "Create the confidence interval by adding and subtracting this value (1.96 × SEM) from the sample mean."
   ]
  },
  {
   "cell_type": "markdown",
   "id": "c52574d6",
   "metadata": {},
   "source": [
    "3. Creating the \"sample mean plus and minus about 2 times the standard error\" confidence interval addressed in the previous problem should indeed cover approximately 95% of the bootstrapped sample means. Alternatively, how do we create a 95% bootstrapped confidence interval using the bootstrapped means (without using their standard deviation to estimate the standard error of the mean)? Explain this concisely in your own words.\n",
    "Generate many bootstrapped sample means by resampling your original data with replacement.\n",
    "Sort the bootstrapped means from lowest to highest.\n",
    "Identify the 2.5th percentile and the 97.5th percentile of the sorted bootstrapped means. These percentiles correspond to the boundaries that exclude the lower 2.5% and upper 2.5% of the bootstrapped means.å"
   ]
  },
  {
   "cell_type": "markdown",
   "id": "0448d9b3",
   "metadata": {},
   "source": [
    "4. The \"Pre-lecture\" video (above) mentioned that bootstrap confidence intervals could apply to other statistics of the sample, such as the \"median\". Work with a ChatBot to create code to produce a 95% bootstrap confidence interval for a population mean based on a sample that you have and comment the code to demonstrate how the code can be changed to produce a 95% bootstrap confidence interval for different population parameter (other than the population mean, such as the population median)."
   ]
  },
  {
   "cell_type": "code",
   "execution_count": 1,
   "id": "c13f140b",
   "metadata": {},
   "outputs": [
    {
     "name": "stdout",
     "output_type": "stream",
     "text": [
      "95% Bootstrap Confidence Interval for the Mean: (36.975, 72.0)\n",
      "95% Bootstrap Confidence Interval for the Median: (30.0, 80.0)\n"
     ]
    }
   ],
   "source": [
    "import numpy as np\n",
    "\n",
    "# Function to generate bootstrap resamples and compute the statistic\n",
    "def bootstrap_ci(data, stat_func, num_bootstrap=1000, ci_percentile=95):\n",
    "    \"\"\"\n",
    "    Function to calculate a confidence interval using bootstrapping.\n",
    "\n",
    "    Args:\n",
    "        data: The original sample data.\n",
    "        stat_func: A function to calculate the statistic of interest (e.g., np.mean or np.median).\n",
    "        num_bootstrap: Number of bootstrap resamples to generate.\n",
    "        ci_percentile: Desired confidence interval percentage (default is 95%).\n",
    "    \n",
    "    Returns:\n",
    "        A tuple containing the lower and upper bounds of the confidence interval.\n",
    "    \"\"\"\n",
    "    # Generate bootstrap resamples and calculate the statistic for each resample\n",
    "    bootstrapped_stats = []\n",
    "    for _ in range(num_bootstrap):\n",
    "        resample = np.random.choice(data, size=len(data), replace=True)  # Resample with replacement\n",
    "        bootstrapped_stats.append(stat_func(resample))  # Calculate statistic (e.g., mean or median)\n",
    "    \n",
    "    # Sort the bootstrapped statistics\n",
    "    sorted_stats = np.sort(bootstrapped_stats)\n",
    "    \n",
    "    # Calculate the percentiles for the confidence interval\n",
    "    lower_percentile = (100 - ci_percentile) / 2\n",
    "    upper_percentile = 100 - lower_percentile\n",
    "    \n",
    "    # Find the values at the percentiles\n",
    "    lower_bound = np.percentile(sorted_stats, lower_percentile)\n",
    "    upper_bound = np.percentile(sorted_stats, upper_percentile)\n",
    "    \n",
    "    return lower_bound, upper_bound\n",
    "\n",
    "# Example usage: Confidence interval for the mean\n",
    "sample_data = np.array([10, 20, 30, 40, 50, 60, 70, 80, 90, 100])  # Sample data\n",
    "\n",
    "# Compute a 95% bootstrap confidence interval for the mean\n",
    "ci_mean = bootstrap_ci(sample_data, np.mean)\n",
    "print(f\"95% Bootstrap Confidence Interval for the Mean: {ci_mean}\")\n",
    "\n",
    "# To compute a 95% bootstrap confidence interval for the median, simply change np.mean to np.median:\n",
    "ci_median = bootstrap_ci(sample_data, np.median)\n",
    "print(f\"95% Bootstrap Confidence Interval for the Median: {ci_median}\")\n"
   ]
  },
  {
   "cell_type": "markdown",
   "id": "276a33b8",
   "metadata": {},
   "source": [
    "5. The previous question addresses making a confidence interval for a population parameter based on a sample statistic. Why do we need to distinguish between the role of the popualation parameter and the sample sample statistic when it comes to confidence intervals? Explain this concisely in your own words.\n",
    "A confidence interval quantifies the uncertainty in this estimate by providing a range of plausible values for the population parameter, based on the variability in the sample statistic. "
   ]
  },
  {
   "cell_type": "markdown",
   "id": "a44f4441",
   "metadata": {},
   "source": [
    "6. Provide written answers explaining the answers to the following questions in an informal manner of a conversation with a friend with little experience with statistics.\n",
    "What is the process of bootstrapping?\n",
    "Bootstrapping involves repeatedly sampling from your data with replacement to create new samples (resamples) and then calculating a statistic, like the mean, for each one.\n",
    "\n",
    "What is the main purpose of bootstrapping?\n",
    "The main purpose of bootstrapping is to measure the uncertainty in a sample statistic, like the mean, by simulating many resamples. \n",
    "\n",
    "If you had a (hypothesized) guess about what the average of a population was, and you had a sample of size n from that population, how could you use bootstrapping to assess whether or not your (hypothesized) guess might be plausible?\n",
    "I will use bootstrapping to create a confidence interval for the sample mean and check if my hypothesized guess falls within that interval. If it does, my guess is plausible; if not, it may be inaccurate based on my sample."
   ]
  },
  {
   "cell_type": "markdown",
   "id": "18fd3aef",
   "metadata": {},
   "source": [
    "7. The \"Pre-lecture\" video (above) introduced hypothesis testing by saying that \"the confidence interval covers zero, so we cannot reject the hypothesis that the drug is [on average] not doing anything\". This conclusion could be referred to as \"failing to reject the null hypothesis\", where the term \"null\" refers to the concept of \"no effect [on average]\". Why does a confidence interval overlapping zero \"fail to reject the null hypothesis\" when the observed sample mean statistic itself is not zero? Alternatively, what would lead to the opposite conclusion in this context; namely, instead choosing \"to reject the null hypothesis\"? Explain the answers to these questions concisely in your own words.\n",
    "A confidence interval overlapping zero means that zero is a plausible value for the true effect, based on the sample data. Since zero represents \"no effect\" in the null hypothesis, the fact that zero lies within the interval suggests that we don’t have enough evidence to confidently say the effect is different from zero. This is why we \"fail to reject the null hypothesis\" even if the sample mean itself isn’t zero.\n",
    "\n",
    "To “reject the null hypothesis”, the confidence interval would need to exclude zero, meaning we have strong enough evidence to say that the true effect is likely different from zero (either positive or negative). This would indicate that the drug has a statistically significant effect."
   ]
  },
  {
   "cell_type": "markdown",
   "id": "095e1811",
   "metadata": {},
   "source": [
    "8. Vaccine Data Analysis Assignment"
   ]
  },
  {
   "cell_type": "markdown",
   "id": "2e7bd6b9",
   "metadata": {},
   "source": [
    "The goal of this analysis is to evaluate whether AliTech's new vaccine has a significant effect on improving patient health. Specifically, we will assess whether there is a statistically significant increase in patients' health scores after receiving the vaccine.\n",
    "\n",
    "Null Hypothesis (H₀): The vaccine has no effect on health. In statistical terms, this means that the average difference between the initial and final health scores is zero.\n",
    "Alternative Hypothesis (H₁): The vaccine improves health, i.e., the average difference between the initial and final health scores is "
   ]
  },
  {
   "cell_type": "code",
   "execution_count": 3,
   "id": "b42adb01",
   "metadata": {},
   "outputs": [
    {
     "name": "stdout",
     "output_type": "stream",
     "text": [
      "   PatientID  Age Gender  InitialHealthScore  FinalHealthScore  \\\n",
      "0          1   45      M                  84                86   \n",
      "1          2   34      F                  78                86   \n",
      "2          3   29      M                  83                80   \n",
      "3          4   52      F                  81                86   \n",
      "4          5   37      M                  81                84   \n",
      "5          6   41      F                  80                86   \n",
      "6          7   33      M                  79                86   \n",
      "7          8   48      F                  85                82   \n",
      "8          9   26      M                  76                83   \n",
      "9         10   39      F                  83                84   \n",
      "\n",
      "   HealthScoreChange  \n",
      "0                  2  \n",
      "1                  8  \n",
      "2                 -3  \n",
      "3                  5  \n",
      "4                  3  \n",
      "5                  6  \n",
      "6                  7  \n",
      "7                 -3  \n",
      "8                  7  \n",
      "9                  1  \n"
     ]
    },
    {
     "data": {
      "image/png": "[encoded data removed]",
      "text/plain": [
       "<Figure size 1000x500 with 2 Axes>"
      ]
     },
     "metadata": {},
     "output_type": "display_data"
    }
   ],
   "source": [
    "import pandas as pd\n",
    "import matplotlib.pyplot as plt\n",
    "\n",
    "# Manually input the data\n",
    "data = {\n",
    "    'PatientID': [1, 2, 3, 4, 5, 6, 7, 8, 9, 10],\n",
    "    'Age': [45, 34, 29, 52, 37, 41, 33, 48, 26, 39],\n",
    "    'Gender': ['M', 'F', 'M', 'F', 'M', 'F', 'M', 'F', 'M', 'F'],\n",
    "    'InitialHealthScore': [84, 78, 83, 81, 81, 80, 79, 85, 76, 83],\n",
    "    'FinalHealthScore': [86, 86, 80, 86, 84, 86, 86, 82, 83, 84]\n",
    "    \n",
    "}\n",
    "\n",
    "# Create a DataFrame from the manually inputted data\n",
    "df = pd.DataFrame(data)\n",
    "\n",
    "# Calculate health score change\n",
    "df['HealthScoreChange'] = df['FinalHealthScore'] - df['InitialHealthScore']\n",
    "\n",
    "# Display the first few rows of the DataFrame to verify\n",
    "print(df)\n",
    "\n",
    "# Plot initial vs final health scores\n",
    "plt.figure(figsize=(10, 5))\n",
    "plt.subplot(1, 2, 1)\n",
    "plt.boxplot([df['InitialHealthScore'], df['FinalHealthScore']], labels=['Initial', 'Final'])\n",
    "plt.title('Initial vs Final Health Scores')\n",
    "\n",
    "# Plot the distribution of health score changes\n",
    "plt.subplot(1, 2, 2)\n",
    "plt.hist(df['HealthScoreChange'], bins=10, edgecolor='black')\n",
    "plt.title('Distribution of Health Score Changes')\n",
    "plt.xlabel('Health Score Change')\n",
    "plt.ylabel('Frequency')\n",
    "\n",
    "plt.tight_layout()\n",
    "plt.show()\n"
   ]
  },
  {
   "cell_type": "markdown",
   "id": "84c67d41",
   "metadata": {},
   "source": [
    "After that, I used bootstrapping to estimate the uncertainty in the average health score change and construct a 95% confidence interval. "
   ]
  },
  {
   "cell_type": "code",
   "execution_count": 5,
   "id": "9dec5cc3",
   "metadata": {},
   "outputs": [
    {
     "data": {
      "text/plain": [
       "(0.8, 5.6, 3.3)"
      ]
     },
     "execution_count": 5,
     "metadata": {},
     "output_type": "execute_result"
    }
   ],
   "source": [
    "import numpy as np\n",
    "import pandas as pd\n",
    "\n",
    "# Data\n",
    "data = {\n",
    "    'PatientID': [1, 2, 3, 4, 5, 6, 7, 8, 9, 10],\n",
    "    'InitialHealthScore': [84, 78, 83, 81, 81, 80, 79, 85, 76, 83],\n",
    "    'FinalHealthScore': [86, 86, 80, 86, 84, 86, 86, 82, 83, 84]\n",
    "}\n",
    "\n",
    "df = pd.DataFrame(data)\n",
    "\n",
    "# Calculate health score change\n",
    "df['HealthScoreChange'] = df['FinalHealthScore'] - df['InitialHealthScore']\n",
    "\n",
    "# Bootstrapping to estimate uncertainty in the average health score change\n",
    "n_iterations = 1000\n",
    "n_size = len(df)\n",
    "bootstrap_means = []\n",
    "\n",
    "# Perform bootstrap sampling\n",
    "for _ in range(n_iterations):\n",
    "    sample = np.random.choice(df['HealthScoreChange'], size=n_size, replace=True)\n",
    "    bootstrap_means.append(np.mean(sample))\n",
    "\n",
    "# Calculate 95% confidence interval\n",
    "lower_bound = np.percentile(bootstrap_means, 2.5)\n",
    "upper_bound = np.percentile(bootstrap_means, 97.5)\n",
    "mean_change = np.mean(df['HealthScoreChange'])\n",
    "\n",
    "(lower_bound, upper_bound, mean_change)\n"
   ]
  },
  {
   "cell_type": "markdown",
   "id": "02944567",
   "metadata": {},
   "source": [
    "Based on the analysis, we calculated the 95% bootstrap confidence interval for the mean change in health scores after administering the vaccine. If the confidence interval excludes zero, we can conclude that the vaccine has a statistically significant positive effect on patients' health, indicating that the final health scores are likely higher than the initial ones due to the vaccine. "
   ]
  },
  {
   "cell_type": "markdown",
   "id": "a1268a32",
   "metadata": {},
   "source": [
    "ChatGPT Summarization:\n",
    "In our conversation, you asked about key statistical concepts and how to visualize a dataset comparing health scores before and after vaccination. Here’s a summary of the main points:\n",
    "\n",
    "1. **Confidence Interval**: We discussed that a confidence interval provides a range of values likely to contain the true population parameter, with a certain level of confidence (e.g., 95%).\n",
    "\n",
    "2. **Standard Error vs Standard Deviation**: We covered that standard deviation measures the spread of data, while standard error estimates the variability of the sample mean from the true population mean.\n",
    "\n",
    "3. **Visualization Suggestions**: For the vaccine data, I suggested different visualizations in Python, such as:\n",
    "   - Bar charts to compare initial and final health scores per patient.\n",
    "   - Box plots for the distribution of health scores.\n",
    "   - Line plots to show health score changes over time.\n",
    "   - Gender comparisons with grouped bar charts.\n",
    "   - Scatter plots to see the relationship between age and health score changes.\n",
    "\n",
    "4. **Bootstrapping Analysis**: You requested a bootstrapping analysis to estimate the uncertainty in the average health score change. I performed this, and the 95% confidence interval for the average health score change was **[0.8, 5.6]**, with a mean of **3.3** points. This indicates a positive effect of the vaccine.\n",
    "\n",
    "5. **Conclusion**: The vaccine appears to have a beneficial impact, as the confidence interval supports a positive change in health scores. The analysis shows that the vaccine likely improves health, though there is some variability in the degree of improvement.\n",
    "\n",
    "This summarizes the key points and analysis conducted during our discussion."
   ]
  },
  {
   "cell_type": "markdown",
   "id": "2dde52c6",
   "metadata": {},
   "source": [
    "Converaation Link: https://chatgpt.com/c/66ff5948-7218-8001-9529-383cdd4abe9a"
   ]
  }
 ],
 "metadata": {
  "kernelspec": {
   "display_name": "Python 3 (ipykernel)",
   "language": "python",
   "name": "python3"
  },
  "language_info": {
   "codemirror_mode": {
    "name": "ipython",
    "version": 3
   },
   "file_extension": ".py",
   "mimetype": "text/x-python",
   "name": "python",
   "nbconvert_exporter": "python",
   "pygments_lexer": "ipython3",
   "version": "3.11.6"
  }
 },
 "nbformat": 4,
 "nbformat_minor": 5
}
